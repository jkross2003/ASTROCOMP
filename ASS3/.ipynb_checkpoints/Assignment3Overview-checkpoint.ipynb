{
 "cells": [
  {
   "cell_type": "markdown",
   "id": "2455fd57",
   "metadata": {},
   "source": [
    "# Assignment 3\n",
    "Jessica Ross - u7278803\n",
    "\n",
    "Welcome to my Assignment 3. Please see the link to the public repository on GitHub for all the fun stuff. Please refer to the ***main*** branch.\n",
    "\n",
    "https://github.com/jkross2003/ASTROCOMP/tree/2ca6b6592c6db97b199d837236cce0a9949638b3/ASS3\n",
    "\n",
    "Question 2 & 3 are labelled appropriately for the respective .ipynb notebooks"
   ]
  },
  {
   "cell_type": "code",
   "execution_count": null,
   "id": "f228d50d",
   "metadata": {},
   "outputs": [],
   "source": []
  }
 ],
 "metadata": {
  "kernelspec": {
   "display_name": "Python 3 (ipykernel)",
   "language": "python",
   "name": "python3"
  },
  "language_info": {
   "codemirror_mode": {
    "name": "ipython",
    "version": 3
   },
   "file_extension": ".py",
   "mimetype": "text/x-python",
   "name": "python",
   "nbconvert_exporter": "python",
   "pygments_lexer": "ipython3",
   "version": "3.8.19"
  }
 },
 "nbformat": 4,
 "nbformat_minor": 5
}
