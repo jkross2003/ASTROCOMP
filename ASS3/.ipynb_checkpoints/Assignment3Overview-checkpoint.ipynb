{
 "cells": [
  {
   "cell_type": "markdown",
   "id": "0beaab09",
   "metadata": {},
   "source": [
    "# Assignment 3\n",
    "Jessica Ross - u7278803\n",
    "\n",
    "Welcome to my Assignment 3. Please see the link to the public repository on GitHub for all the fun stuff. Please refer to the ***main*** branch.\n",
    "\n",
    "https://github.com/jkross2003/ASTROCOMP/tree/7a2fa4d61365ae1adb1e9e318a2ef5070ee957ec/ASS3\n",
    "\n",
    "Question 2 & 3 are labelled appropriately for the respective .ipynb notebooks"
   ]
  },
  {
   "cell_type": "code",
   "execution_count": null,
   "id": "07a92116",
   "metadata": {},
   "outputs": [],
   "source": []
  }
 ],
 "metadata": {
  "kernelspec": {
   "display_name": "Python 3 (ipykernel)",
   "language": "python",
   "name": "python3"
  },
  "language_info": {
   "codemirror_mode": {
    "name": "ipython",
    "version": 3
   },
   "file_extension": ".py",
   "mimetype": "text/x-python",
   "name": "python",
   "nbconvert_exporter": "python",
   "pygments_lexer": "ipython3",
   "version": "3.8.19"
  }
 },
 "nbformat": 4,
 "nbformat_minor": 5
}
