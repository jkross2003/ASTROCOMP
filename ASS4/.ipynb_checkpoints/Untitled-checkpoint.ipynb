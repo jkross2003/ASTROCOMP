{
 "cells": [
  {
   "cell_type": "code",
   "execution_count": 4,
   "id": "a89f46e6",
   "metadata": {},
   "outputs": [],
   "source": [
    "# import numpy as np\n",
    "# import tensorflow as tf\n",
    "# from tensorflow.keras import layers, models\n",
    "\n",
    "# # Function to generate noisy gravitational wave-like data\n",
    "# def generate_gw_data(n_samples, noise_level=0.1):\n",
    "#     time = np.linspace(0, 1, n_samples)\n",
    "#     signal = np.sin(2 * np.pi * time * 5)  # Simulated GW signal (sine wave)\n",
    "#     noise = noise_level * np.random.randn(n_samples)  # Adding Gaussian noise\n",
    "#     data = signal + noise\n",
    "#     return data, signal\n",
    "\n",
    "# # Prepare the data\n",
    "# n_samples = 100\n",
    "# x_data, y_data = generate_gw_data(n_samples)\n",
    "\n",
    "# # Reshape data for the neural network\n",
    "# x_data = x_data.reshape(-1, 1)\n",
    "# y_data = y_data.reshape(-1, 1)\n",
    "\n",
    "# # Build the neural network model\n",
    "# model = models.Sequential([\n",
    "#     layers.Dense(5, activation='relu', input_shape=(1,)),  # First hidden layer\n",
    "#     layers.Dense(5, activation='relu'),                    # Second hidden layer\n",
    "#     layers.Dense(1)                                        # Output layer\n",
    "# ])\n",
    "\n",
    "# # Compile the model\n",
    "# model.compile(optimizer=tf.keras.optimizers.SGD(learning_rate=0.1),  # Learning rate = 0.1\n",
    "#               loss='mean_squared_error')\n",
    "\n",
    "# # Train the model\n",
    "# history = model.fit(x_data, y_data, epochs=100, verbose=1)\n",
    "\n",
    "# # Save the training loss plot\n",
    "# plt.figure()\n",
    "# plt.plot(history.history['loss'], label='Loss')\n",
    "# plt.title('Loss over Epochs')\n",
    "# plt.xlabel('Epochs')\n",
    "# plt.ylabel('Loss')\n",
    "# plt.legend()\n",
    "# plt.savefig('training_loss.png')  # Save figure\n",
    "# plt.show()\n",
    "\n",
    "# # Predict to compare true vs predicted signals\n",
    "# y_pred = model.predict(x_data)\n",
    "\n",
    "# # Save the true vs predicted signal plot\n",
    "# plt.figure()\n",
    "# plt.plot(x_data, y_data, label='True Signal', color='blue')\n",
    "# plt.plot(x_data, y_pred, label='Predicted Signal', color='orange', linestyle='dashed')\n",
    "# plt.legend()\n",
    "# plt.title('Gravitational Wave Signal: True vs Predicted')\n",
    "# plt.savefig('true_vs_predicted_signal.png')  # Save figure\n",
    "# plt.show()\n",
    "\n",
    "# # Synthetic data generation for the next model\n",
    "# A = 1   # Amplitude\n",
    "# f = 10  # Frequency in Hz\n",
    "# t = np.linspace(0, 1, 1000)  # Time array (1 second at 1000 samples/second)\n",
    "# y_true = A * np.sin(2 * np.pi * f * t)  # True GW signal\n",
    "# noise = 0.2 * np.random.normal(size=t.shape)  # Gaussian noise\n",
    "# X_test = y_true + noise  # Noisy input signal for testing\n",
    "\n",
    "# # Use the same data for training in this example\n",
    "# X_train = X_test\n",
    "# y_train = y_true\n",
    "\n",
    "# # Build a new neural network model\n",
    "# model = models.Sequential([\n",
    "#     layers.Dense(128, input_shape=(1,), activation='relu'),  # 128 neurons in the first hidden layer\n",
    "#     layers.Dense(64, activation='relu'),                      # 64 neurons in the second hidden layer\n",
    "#     layers.Dense(1, activation='linear')                      # Output layer for regression\n",
    "# ])\n",
    "\n",
    "# # Compile the new model\n",
    "# model.compile(optimizer='adam', loss='mean_squared_error')\n",
    "\n",
    "# # Train the new model\n",
    "# history = model.fit(X_train, y_train, epochs=100, batch_size=32, verbose=1)\n",
    "\n",
    "# # Predict on the test data\n",
    "# predicted_signal = model.predict(X_test)\n",
    "\n"
   ]
  },
  {
   "cell_type": "code",
   "execution_count": 33,
   "id": "8e016431",
   "metadata": {},
   "outputs": [],
   "source": [
    "import numpy as np\n",
    "import tensorflow as tf\n",
    "from tensorflow.keras import layers, models\n",
    "import matplotlib.pyplot as plt\n",
    "\n",
    "# Function to generate noisy gravitational wave-like data\n",
    "def generate_gw_data(n_samples, noise_level=0.1):\n",
    "    time = np.linspace(0, 1, n_samples)\n",
    "    signal = np.sin(2 * np.pi * time * 5)  # Simulated GW signal (sine wave)\n",
    "    noise = noise_level * np.random.randn(n_samples)  # Adding Gaussian noise\n",
    "    data = signal + noise\n",
    "    return data, signal"
   ]
  },
  {
   "cell_type": "code",
   "execution_count": 14,
   "id": "525ba2fd",
   "metadata": {},
   "outputs": [
    {
     "name": "stdout",
     "output_type": "stream",
     "text": [
      "x_data shape: (100, 1)\n",
      "y_data shape: (100, 1)\n"
     ]
    }
   ],
   "source": [
    "# Set the number of samples\n",
    "n_samples = 100\n",
    "\n",
    "# Prepare the data\n",
    "x_data, y_data = generate_gw_data(n_samples)\n",
    "x_data = x_data.reshape(-1, 1)  # Reshape for input shape (n_samples, 1)\n",
    "y_data = y_data.reshape(-1, 1)  # Reshape to ensure it's (n_samples, 1)\n",
    "\n",
    "print(\"x_data shape:\", x_data.shape)\n",
    "print(\"y_data shape:\", y_data.shape)\n"
   ]
  },
  {
   "cell_type": "code",
   "execution_count": 19,
   "id": "d5271769",
   "metadata": {},
   "outputs": [
    {
     "name": "stdout",
     "output_type": "stream",
     "text": [
      "Is model compiled?: True\n",
      "Predictions shape: (100, 1)\n",
      "y_data shape: (100, 1)\n",
      "Loss value: 0.6591612\n"
     ]
    }
   ],
   "source": [
    "# Build and compile the model\n",
    "model = models.Sequential([\n",
    "    layers.Dense(5, activation='relu', input_shape=(1,)),  # First hidden layer\n",
    "    layers.Dense(5, activation='relu'),                    # Second hidden layer\n",
    "    layers.Dense(1)                                        # Output layer\n",
    "])\n",
    "optimizer_01 = tf.keras.optimizers.SGD(learning_rate=0.01)\n",
    "model.compile(optimizer=optimizer_01, loss='mean_squared_error')\n",
    "print(\"Is model compiled?:\", model.optimizer is not None)\n",
    "print(\"Predictions shape:\", model(x_data).shape)\n",
    "print(\"y_data shape:\", y_data.shape)\n",
    "\n",
    "with tf.GradientTape() as tape:\n",
    "    predictions = model(x_data)\n",
    "    loss_value = tf.keras.losses.mean_squared_error(y_data, predictions)\n",
    "    loss_value = tf.reduce_mean(loss_value)  # Ensure it is scalar\n",
    "    \n",
    "print(\"Loss value:\", loss_value.numpy())"
   ]
  },
  {
   "cell_type": "code",
   "execution_count": 21,
   "id": "93039ddc",
   "metadata": {},
   "outputs": [
    {
     "name": "stdout",
     "output_type": "stream",
     "text": [
      "x_data_test shape: (3, 1)\n",
      "y_data_test shape: (3, 1)\n",
      "Test loss value: 15.41751\n",
      "2.6.0\n"
     ]
    }
   ],
   "source": [
    "\n",
    "# Test with a very simple dataset\n",
    "x_data_test = np.array([[1.0], [2.0], [3.0]])\n",
    "y_data_test = np.array([[2.0], [4.0], [6.0]])\n",
    "\n",
    "print(\"x_data_test shape:\", x_data_test.shape)\n",
    "print(\"y_data_test shape:\", y_data_test.shape)\n",
    "\n",
    "# Test with a single training step\n",
    "with tf.GradientTape() as tape:\n",
    "    predictions = model(x_data_test)\n",
    "    loss_value = tf.keras.losses.mean_squared_error(y_data_test, predictions)\n",
    "    loss_value = tf.reduce_mean(loss_value)\n",
    "    print(\"Test loss value:\", loss_value.numpy())\n",
    "\n",
    "print(tf.__version__)\n"
   ]
  },
  {
   "cell_type": "code",
   "execution_count": 22,
   "id": "4a5e7353",
   "metadata": {},
   "outputs": [],
   "source": [
    "def extract_model_info(model, x_data, y_data, optimizer):\n",
    "    info = {\"step\": [], \"weights\": [], \"gradients\": [], \"outputs\": [], \"loss\": []}\n",
    "\n",
    "    for step in range(10):  # Run 10 steps of optimization\n",
    "        with tf.GradientTape() as tape:\n",
    "            predictions = model(x_data)\n",
    "            # Explicitly calculate the loss using mean_squared_error\n",
    "            loss_value = tf.keras.losses.mean_squared_error(y_data, predictions)\n",
    "            loss_value = tf.reduce_mean(loss_value)  # Reduce to scalar\n",
    "\n",
    "        # Compute gradients and get weights\n",
    "        gradients = tape.gradient(loss_value, model.trainable_variables)\n",
    "        weights = model.trainable_variables\n",
    "\n",
    "        # Apply gradients (this updates the weights)\n",
    "        optimizer.apply_gradients(zip(gradients, weights))\n",
    "\n",
    "        # Store step information\n",
    "        info[\"step\"].append(step + 1)\n",
    "        info[\"weights\"].append([w.numpy() for w in weights])\n",
    "        info[\"gradients\"].append([g.numpy() for g in gradients])\n",
    "        info[\"outputs\"].append(predictions.numpy())\n",
    "        info[\"loss\"].append(loss_value.numpy())\n",
    "\n",
    "        print(f\"Step {step + 1}: Loss = {loss_value.numpy()}\")\n",
    "\n",
    "    return info\n"
   ]
  },
  {
   "cell_type": "code",
   "execution_count": 27,
   "id": "514ab546",
   "metadata": {},
   "outputs": [],
   "source": [
    "# Create optimizer for the two learning rates\n",
    "optimizer_02 = tf.keras.optimizers.SGD(learning_rate=0.2)"
   ]
  },
  {
   "cell_type": "code",
   "execution_count": 30,
   "id": "ad1c5a3d",
   "metadata": {},
   "outputs": [
    {
     "name": "stdout",
     "output_type": "stream",
     "text": [
      "Step 1: Loss = 0.044782642275094986\n",
      "Step 2: Loss = 0.03977307304739952\n",
      "Step 3: Loss = 0.03693853318691254\n",
      "Step 4: Loss = 0.039283089339733124\n",
      "Step 5: Loss = 0.04152212664484978\n",
      "Step 6: Loss = 0.05384422466158867\n",
      "Step 7: Loss = 0.06607896834611893\n",
      "Step 8: Loss = 0.11755581200122833\n",
      "Step 9: Loss = 0.1360144466161728\n",
      "Step 10: Loss = 0.261678010225296\n",
      "Step 1: Loss = 0.19122451543807983\n",
      "Step 2: Loss = 0.148126482963562\n",
      "Step 3: Loss = 0.11651553958654404\n",
      "Step 4: Loss = 0.09304333478212357\n",
      "Step 5: Loss = 0.07566078007221222\n",
      "Step 6: Loss = 0.06329414248466492\n",
      "Step 7: Loss = 0.05380520969629288\n",
      "Step 8: Loss = 0.046483658254146576\n",
      "Step 9: Loss = 0.04080699011683464\n",
      "Step 10: Loss = 0.036389924585819244\n"
     ]
    }
   ],
   "source": [
    "# Extract information for both learning rates\n",
    "info_lr_02 = extract_model_info(model, x_data, y_data, optimizer_02)\n",
    "info_lr_01 = extract_model_info(model, x_data, y_data, optimizer_01)"
   ]
  },
  {
   "cell_type": "code",
   "execution_count": 31,
   "id": "e49ef1eb",
   "metadata": {},
   "outputs": [
    {
     "name": "stdout",
     "output_type": "stream",
     "text": [
      "Tables saved successfully!\n",
      "   Step      Loss                                            Weights  \\\n",
      "0     1  0.191225  [array([[-0.229173  ,  0.7402544 ,  0.732363  ...   \n",
      "1     2  0.148126  [array([[-0.229173  ,  0.73583776,  0.73268074...   \n",
      "2     3  0.116516  [array([[-0.229173  ,  0.73198956,  0.7329637 ...   \n",
      "3     4  0.093043  [array([[-0.229173  ,  0.7286493 ,  0.73321706...   \n",
      "4     5  0.075661  [array([[-0.229173  ,  0.7257369 ,  0.7334438 ...   \n",
      "\n",
      "                                           Gradients  \\\n",
      "0  [array([[ 0.        ,  0.51162094, -0.03539175...   \n",
      "1  [array([[ 0.        ,  0.4416627 , -0.03177443...   \n",
      "2  [array([[ 0.        ,  0.3848178 , -0.02829263...   \n",
      "3  [array([[ 0.        ,  0.33402473, -0.02533967...   \n",
      "4  [array([[ 0.        ,  0.29123992, -0.02267554...   \n",
      "\n",
      "                                             Outputs  \n",
      "0  [[ 0.573365  ]\\n [ 0.8823911 ]\\n [ 1.1395327 ]...  \n",
      "1  [[ 0.51604027]\\n [ 0.8179359 ]\\n [ 1.0693727 ]...  \n",
      "2  [[ 0.46760112]\\n [ 0.7634894 ]\\n [ 1.0101197 ]...  \n",
      "3  [[ 0.4263966 ]\\n [ 0.7171767 ]\\n [ 0.95971644]...  \n",
      "4  [[ 0.3910588 ]\\n [ 0.67747855]\\n [ 0.9165529 ]...  \n",
      "   Step      Loss                                            Weights  \\\n",
      "0     1  0.044783  [array([[-0.23484516,  0.68427515,  0.7511572 ...   \n",
      "1     2  0.039773  [array([[-0.23484516,  0.69547194,  0.74945605...   \n",
      "2     3  0.036939  [array([[-0.23439878,  0.6794441 ,  0.7513454 ...   \n",
      "3     4  0.039283  [array([[-0.23439878,  0.7002097 ,  0.74825186...   \n",
      "4     5  0.041522  [array([[-0.23201932,  0.6690898 ,  0.7518146 ...   \n",
      "\n",
      "                                           Gradients  \\\n",
      "0  [array([[ 0.        ,  0.0613755 , -0.00688292...   \n",
      "1  [array([[ 0.        , -0.05598382,  0.00850599...   \n",
      "2  [array([[-0.00223192,  0.08013932, -0.00944685...   \n",
      "3  [array([[ 0.        , -0.10382802,  0.01546771...   \n",
      "4  [array([[-0.0118973 ,  0.15559927, -0.01781373...   \n",
      "\n",
      "                                             Outputs  \n",
      "0  [[ 0.19607186]\\n [ 0.45722318]\\n [ 0.672619  ]...  \n",
      "1  [[ 0.0944584 ]\\n [ 0.34318334]\\n [ 0.54834074]...  \n",
      "2  [[ 0.21352798]\\n [ 0.4766091 ]\\n [ 0.6938634 ]...  \n",
      "3  [[ 0.04526454]\\n [ 0.29112667]\\n [ 0.49414116]...  \n",
      "4  [[ 0.271339  ]\\n [ 0.5430953 ]\\n [ 0.7678502 ]...  \n"
     ]
    }
   ],
   "source": [
    "# Convert extracted information into a table (e.g., using pandas DataFrame)\n",
    "import pandas as pd\n",
    "\n",
    "# Convert the information to DataFrames for easy visualization and export\n",
    "def create_table(info):\n",
    "    table = pd.DataFrame({\n",
    "        'Step': info[\"step\"],\n",
    "        'Loss': info[\"loss\"],\n",
    "        'Weights': [str(w) for w in info[\"weights\"]],\n",
    "        'Gradients': [str(g) for g in info[\"gradients\"]],\n",
    "        'Outputs': [str(o) for o in info[\"outputs\"]]\n",
    "    })\n",
    "    return table\n",
    "\n",
    "# Create tables for both learning rates\n",
    "table_lr_01 = create_table(info_lr_01)\n",
    "table_lr_02 = create_table(info_lr_02)\n",
    "\n",
    "# Save the tables to CSV files\n",
    "table_lr_01.to_csv('table_lr_01.csv', index=False)\n",
    "table_lr_02.to_csv('table_lr_02.csv', index=False)\n",
    "\n",
    "print(\"Tables saved successfully!\")\n",
    "\n",
    "# Visualizing the tables\n",
    "print(table_lr_01.head())\n",
    "print(table_lr_02.head())"
   ]
  },
  {
   "cell_type": "code",
   "execution_count": 35,
   "id": "7781825c",
   "metadata": {},
   "outputs": [
    {
     "ename": "NameError",
     "evalue": "name 't' is not defined",
     "output_type": "error",
     "traceback": [
      "\u001b[0;31m---------------------------------------------------------------------------\u001b[0m",
      "\u001b[0;31mNameError\u001b[0m                                 Traceback (most recent call last)",
      "Cell \u001b[0;32mIn[35], line 3\u001b[0m\n\u001b[1;32m      1\u001b[0m \u001b[38;5;66;03m# Save the true vs predicted signal plot for the new model\u001b[39;00m\n\u001b[1;32m      2\u001b[0m plt\u001b[38;5;241m.\u001b[39mfigure(figsize\u001b[38;5;241m=\u001b[39m(\u001b[38;5;241m10\u001b[39m, \u001b[38;5;241m6\u001b[39m))\n\u001b[0;32m----> 3\u001b[0m plt\u001b[38;5;241m.\u001b[39mplot(\u001b[43mt\u001b[49m, y_true, label\u001b[38;5;241m=\u001b[39m\u001b[38;5;124m'\u001b[39m\u001b[38;5;124mTrue Signal\u001b[39m\u001b[38;5;124m'\u001b[39m, color\u001b[38;5;241m=\u001b[39m\u001b[38;5;124m\"\u001b[39m\u001b[38;5;124mblue\u001b[39m\u001b[38;5;124m\"\u001b[39m, linestyle\u001b[38;5;241m=\u001b[39m\u001b[38;5;124m\"\u001b[39m\u001b[38;5;124msolid\u001b[39m\u001b[38;5;124m\"\u001b[39m)\n\u001b[1;32m      4\u001b[0m plt\u001b[38;5;241m.\u001b[39mplot(t, predicted_signal, label\u001b[38;5;241m=\u001b[39m\u001b[38;5;124m\"\u001b[39m\u001b[38;5;124mPredicted Signal\u001b[39m\u001b[38;5;124m\"\u001b[39m, color\u001b[38;5;241m=\u001b[39m\u001b[38;5;124m\"\u001b[39m\u001b[38;5;124morange\u001b[39m\u001b[38;5;124m\"\u001b[39m, linestyle\u001b[38;5;241m=\u001b[39m\u001b[38;5;124m\"\u001b[39m\u001b[38;5;124mdashed\u001b[39m\u001b[38;5;124m\"\u001b[39m)\n\u001b[1;32m      5\u001b[0m plt\u001b[38;5;241m.\u001b[39mxlabel(\u001b[38;5;124m\"\u001b[39m\u001b[38;5;124mTime [s]\u001b[39m\u001b[38;5;124m\"\u001b[39m)\n",
      "\u001b[0;31mNameError\u001b[0m: name 't' is not defined"
     ]
    },
    {
     "data": {
      "text/plain": [
       "<Figure size 1000x600 with 0 Axes>"
      ]
     },
     "metadata": {},
     "output_type": "display_data"
    }
   ],
   "source": [
    "# Save the true vs predicted signal plot for the new model\n",
    "plt.figure(figsize=(10, 6))\n",
    "plt.plot(t, y_true, label='True Signal', color=\"blue\", linestyle=\"solid\")\n",
    "plt.plot(t, predicted_signal, label=\"Predicted Signal\", color=\"orange\", linestyle=\"dashed\")\n",
    "plt.xlabel(\"Time [s]\")\n",
    "plt.ylabel(\"Amplitude\")\n",
    "plt.title(\"Gravitational Wave Signal: True vs Predicted\")\n",
    "plt.legend()\n",
    "plt.savefig('true_vs_predicted_signal_new_model.png')  # Save figure\n",
    "plt.show()\n",
    "\n",
    "# Save the loss over epochs for the new model\n",
    "plt.figure(figsize=(10, 6))\n",
    "plt.plot(history.history['loss'], label='Loss over Epochs', color='blue')\n",
    "plt.xlabel(\"Epochs\")\n",
    "plt.ylabel(\"Loss\")\n",
    "plt.title(\"Model Loss Over Time\")\n",
    "plt.legend()\n",
    "plt.savefig('loss_over_epochs_new_model.png')  # Save figure\n",
    "plt.show()\n",
    "\n",
    "# If there is a new noisy signal, predict with the new model\n",
    "# Ensure to define 'noisy_signal' if using real or different data\n",
    "# Uncomment below if you have 'noisy_signal' data to predict on:\n",
    "predicted_signal = model.predict(noisy_signal)\n",
    "\n",
    "# Save the final true vs predicted signal plot\n",
    "# Uncomment below if you have 'true_signal' and 'predicted_signal' for a new prediction:\n",
    "plt.figure(figsize=(10, 6))\n",
    "plt.plot(t, true_signal, label=\"True Signal\", color=\"blue\")\n",
    "plt.plot(t, predicted_signal, label=\"Predicted Signal\", color=\"orange\", linestyle=\"dashed\")\n",
    "plt.xlabel(\"Time\")\n",
    "plt.ylabel(\"Amplitude\")\n",
    "plt.title(\"Gravitational Wave Signal: True vs Predicted (Time Series)\")\n",
    "plt.legend()\n",
    "plt.savefig('final_true_vs_predicted_signal.png')  # Save figure\n",
    "plt.show()"
   ]
  },
  {
   "cell_type": "code",
   "execution_count": null,
   "id": "dd508f9b",
   "metadata": {},
   "outputs": [],
   "source": []
  }
 ],
 "metadata": {
  "kernelspec": {
   "display_name": "Python 3 (ipykernel)",
   "language": "python",
   "name": "python3"
  },
  "language_info": {
   "codemirror_mode": {
    "name": "ipython",
    "version": 3
   },
   "file_extension": ".py",
   "mimetype": "text/x-python",
   "name": "python",
   "nbconvert_exporter": "python",
   "pygments_lexer": "ipython3",
   "version": "3.8.15"
  }
 },
 "nbformat": 4,
 "nbformat_minor": 5
}
